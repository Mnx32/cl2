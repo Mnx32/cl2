{
 "cells": [
  {
   "cell_type": "code",
   "execution_count": 1,
   "id": "52e4a4e0-5edc-4c70-84a0-a09561c39e72",
   "metadata": {},
   "outputs": [],
   "source": [
    "from cryptography.fernet import Fernet  # For encryption\n",
    "import numpy as np"
   ]
  },
  {
   "cell_type": "code",
   "execution_count": 3,
   "id": "8637d317-5d77-491e-a5dc-a4b23458c784",
   "metadata": {},
   "outputs": [],
   "source": [
    "key = Fernet.generate_key()\n",
    "cipher = Fernet(key)"
   ]
  },
  {
   "cell_type": "code",
   "execution_count": 5,
   "id": "7e438654-b94f-4ed4-ae13-1e23aa8a8e44",
   "metadata": {},
   "outputs": [
    {
     "name": "stdout",
     "output_type": "stream",
     "text": [
      "Original Temperature :  43\n"
     ]
    }
   ],
   "source": [
    "temp = np.random.randint(30,60)\n",
    "print(\"Original Temperature : \", temp)"
   ]
  },
  {
   "cell_type": "code",
   "execution_count": 7,
   "id": "588c60db-7114-4c94-a4e2-5e39f2d95009",
   "metadata": {},
   "outputs": [
    {
     "name": "stdout",
     "output_type": "stream",
     "text": [
      "Encrypted Temperature:  b'gAAAAABnLMVjbuOnExelwiqO57dRERta3WfJQBCkIiUXEYCGr42Rh9fCi2M53FDD2nRUV_o6I4mlI0UmtYxqidyGfQvVV2CZ9w=='\n"
     ]
    }
   ],
   "source": [
    "enc = cipher.encrypt(str(temp).encode())\n",
    "print(\"Encrypted Temperature: \",enc)"
   ]
  },
  {
   "cell_type": "code",
   "execution_count": 9,
   "id": "02b289a3-2fb2-4354-91c7-0999f0cec9c9",
   "metadata": {},
   "outputs": [
    {
     "name": "stdout",
     "output_type": "stream",
     "text": [
      "Decrypted Temperature:  43\n"
     ]
    }
   ],
   "source": [
    "dec = cipher.decrypt(enc).decode()\n",
    "print(\"Decrypted Temperature: \",dec)"
   ]
  },
  {
   "cell_type": "code",
   "execution_count": 11,
   "id": "4e239c57-47c3-4793-b179-ed1327b2d9ca",
   "metadata": {},
   "outputs": [
    {
     "name": "stdout",
     "output_type": "stream",
     "text": [
      "Data Integrity is verified\n"
     ]
    }
   ],
   "source": [
    "original_hash = hash(str(temp))\n",
    "decrypted_hash = hash(dec)\n",
    "\n",
    "if original_hash == decrypted_hash:\n",
    "    print(\"Data Integrity is verified\")\n",
    "else:\n",
    "    print(\"Data Integrity is not verified\")"
   ]
  }
 ],
 "metadata": {
  "kernelspec": {
   "display_name": "Python 3 (ipykernel)",
   "language": "python",
   "name": "python3"
  },
  "language_info": {
   "codemirror_mode": {
    "name": "ipython",
    "version": 3
   },
   "file_extension": ".py",
   "mimetype": "text/x-python",
   "name": "python",
   "nbconvert_exporter": "python",
   "pygments_lexer": "ipython3",
   "version": "3.12.4"
  }
 },
 "nbformat": 4,
 "nbformat_minor": 5
}
