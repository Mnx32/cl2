{
 "cells": [
  {
   "cell_type": "code",
   "execution_count": null,
   "id": "7185c597-6976-4eed-972c-b4ded1a1a0f0",
   "metadata": {},
   "outputs": [],
   "source": [
    "import requests\n",
    "\n",
    "key = 'JSKIMO79JD5F5QF5'  # Follow the steps below to get your key\n",
    "t = 22\n",
    "\n",
    "while True:\n",
    "    t += 1\n",
    "    print(\"temperature\", t)\n",
    "    params = {'field1': t, 'key': key}\n",
    "    response = requests.post(\"https://api.thingspeak.com/update\", data=params)\n",
    "    print(response)\n",
    "\n",
    "\n",
    "# Things you should follow before running your code\n",
    "# Step 1:\n",
    "#   - Create or login your ThingSpeak account on \"thingspeak.mathworks.com\"\n",
    "# Step 2:\n",
    "#   - Create New Channel\n",
    "# Step 3:\n",
    "#   - Give any Name to Channel, and click \"Save Channel\"\n",
    "# Step 4:\n",
    "#   - Go on to \"Sharing\" tab, select \"Share channel view with everyone\" (2nd option)\n",
    "# Step 5:\n",
    "#   - Finally go to \"API Keys\" tab, Copy the \"Write API Key\", that's your key\n",
    "\n",
    "\n",
    "# After executing the program, Go on to the \"Public view\" tab, you will see your temperature value being updated every moment"
   ]
  }
 ],
 "metadata": {
  "kernelspec": {
   "display_name": "Python 3 (ipykernel)",
   "language": "python",
   "name": "python3"
  },
  "language_info": {
   "codemirror_mode": {
    "name": "ipython",
    "version": 3
   },
   "file_extension": ".py",
   "mimetype": "text/x-python",
   "name": "python",
   "nbconvert_exporter": "python",
   "pygments_lexer": "ipython3",
   "version": "3.12.4"
  }
 },
 "nbformat": 4,
 "nbformat_minor": 5
}
