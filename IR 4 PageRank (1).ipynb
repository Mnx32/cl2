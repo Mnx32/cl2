{
 "cells": [
  {
   "cell_type": "code",
   "execution_count": 1,
   "id": "3e75ab9f-b29b-4eb6-ad8e-ff169f229b11",
   "metadata": {},
   "outputs": [],
   "source": [
    "import numpy as np"
   ]
  },
  {
   "cell_type": "code",
   "execution_count": 3,
   "id": "8b194830-4466-4153-9643-20d3788118a9",
   "metadata": {},
   "outputs": [],
   "source": [
    "def page_rank(graph, num_iterations=100, d=0.85):\n",
    "    num_pages = len(graph)\n",
    "    # Initialize PageRank values\n",
    "    pagerank = np.ones(num_pages) / num_pages\n",
    "    \n",
    "    # Create the transition matrix\n",
    "    transition_matrix = np.zeros((num_pages, num_pages))\n",
    "    for i in range(num_pages):\n",
    "        links = np.where(graph[i])[0]\n",
    "        if len(links) > 0:\n",
    "            transition_matrix[links, i] = 1 / len(links)\n",
    "    \n",
    "    # Iterative PageRank computation\n",
    "    for _ in range(num_iterations):\n",
    "        pagerank = (1 - d) / num_pages + d * np.dot(transition_matrix, pagerank)\n",
    "    \n",
    "    return pagerank"
   ]
  },
  {
   "cell_type": "code",
   "execution_count": 5,
   "id": "4e7138a3-13ef-4915-bb48-9250a13c9dd1",
   "metadata": {},
   "outputs": [],
   "source": [
    "# Example usage\n",
    "# Graph represented as an adjacency matrix\n",
    "graph = np.array([\n",
    "    [0, 1, 1, 0],\n",
    "    [0, 0, 1, 0],\n",
    "    [1, 0, 0, 1],\n",
    "    [0, 0, 1, 0]\n",
    "])"
   ]
  },
  {
   "cell_type": "code",
   "execution_count": 7,
   "id": "cb1a76b1-4837-4efe-b38c-a93465afdff8",
   "metadata": {},
   "outputs": [
    {
     "name": "stdout",
     "output_type": "stream",
     "text": [
      "[0.21991382 0.13096337 0.42920899 0.21991382]\n"
     ]
    }
   ],
   "source": [
    "pagerank = page_rank(graph)\n",
    "print(pagerank)"
   ]
  },
  {
   "cell_type": "code",
   "execution_count": null,
   "id": "dbd73e6b-8026-4e61-a0f5-42ff89ff5780",
   "metadata": {},
   "outputs": [],
   "source": []
  }
 ],
 "metadata": {
  "kernelspec": {
   "display_name": "Python 3 (ipykernel)",
   "language": "python",
   "name": "python3"
  },
  "language_info": {
   "codemirror_mode": {
    "name": "ipython",
    "version": 3
   },
   "file_extension": ".py",
   "mimetype": "text/x-python",
   "name": "python",
   "nbconvert_exporter": "python",
   "pygments_lexer": "ipython3",
   "version": "3.12.4"
  }
 },
 "nbformat": 4,
 "nbformat_minor": 5
}
