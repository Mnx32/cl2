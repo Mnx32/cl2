{
 "cells": [
  {
   "cell_type": "code",
   "execution_count": null,
   "id": "99a16584-5225-475b-b9f2-7aa9f2f9c958",
   "metadata": {},
   "outputs": [],
   "source": [
    "import RPi.GPIO as gp\n",
    "import time\n",
    "import yagmail  # Be sure to install yagmail library before running (to install yagmail, run this command -> `pip install yagmail`)\n",
    "sensor_pin = 18\n",
    "\n",
    "gp.setmode(gp.BCM)\n",
    "gp.setup(sensor_pin,gp.IN)\n",
    "pwd = ' ' # Enter your app password here\n",
    "yag = yagmail.SMTP('yourEmailId@gmail.com',pwd)\n",
    "\n",
    "while 1:\n",
    "    if gp.input(sensor_pin)==1:\n",
    "        yag.send(to='receiverEmailId@gmail.com',subject='Motion detected!',contents='Attention! Motion is detected around the sensor')\n",
    "        print('Motion detected!')\n",
    "    time.sleep(2)\n",
    "\n",
    "\n",
    "# To get app password, you need to turn on 2 step verification on your google account, then follow these steps to get your app password\n",
    "# Step 1:\n",
    "#   - Go to google.com\n",
    "# Step 2:\n",
    "#   - Click on your profile photo in top right corner, then click \"manage your google account\"\n",
    "# Step 3:\n",
    "#   - Type in the search bar \"App password\", then click on \"App password\"\n",
    "# Step 4:\n",
    "#   - You will be prompted with a Text box, Enter \"mail\" then hit Enter, You will get your 16 password, that's your `pwd`"
   ]
  }
 ],
 "metadata": {
  "kernelspec": {
   "display_name": "Python 3 (ipykernel)",
   "language": "python",
   "name": "python3"
  },
  "language_info": {
   "codemirror_mode": {
    "name": "ipython",
    "version": 3
   },
   "file_extension": ".py",
   "mimetype": "text/x-python",
   "name": "python",
   "nbconvert_exporter": "python",
   "pygments_lexer": "ipython3",
   "version": "3.12.4"
  }
 },
 "nbformat": 4,
 "nbformat_minor": 5
}
