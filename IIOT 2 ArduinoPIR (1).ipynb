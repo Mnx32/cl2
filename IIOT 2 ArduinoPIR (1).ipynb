{
 "cells": [
  {
   "cell_type": "code",
   "execution_count": null,
   "id": "e0aeb805-a568-4fbb-9f8a-409384afddb5",
   "metadata": {},
   "outputs": [],
   "source": [
    "int led_pin = 13;\n",
    "int buz_pin = 12;\n",
    "int pir_pin = 8;\n",
    "\n",
    "void setup(){\n",
    "    Serial.begin(9600);\n",
    "    pinMode(led_pin, OUTPUT);\n",
    "    pinMode(buz_pin, OUTPUT);\n",
    "    pinMode(pir_pin, INPUT);\n",
    "}\n",
    "\n",
    "void loop(){\n",
    "    int out = digitalRead(pir_pin);\n",
    "    if(out==1){\n",
    "        digitalWrite(led_pin, HIGH);\n",
    "        digitalWrite(buz_pin, HIGH);\n",
    "        Serial.println(\"Motion Detected!!!\");\n",
    "    }\n",
    "    else{\n",
    "        digitalWrite(led_pin, LOW);\n",
    "        digitalWrite(buz_pin, LOW);\n",
    "        Serial.println(\"Motion Not Detected!!!\")\n",
    "    }\n",
    "}"
   ]
  },
  {
   "cell_type": "code",
   "execution_count": null,
   "id": "8e52d894-6e71-4697-921f-50ad571b8170",
   "metadata": {},
   "outputs": [],
   "source": [
    "int pirPin = 2; // PIR sensor output pin\n",
    "int ledPin = 13; // LED pin\n",
    "int buzzerPin = 12; // Buzzer pin\n",
    "\n",
    "void setup() {\n",
    "  pinMode(pirPin, INPUT); // Set PIR sensor pin as input\n",
    "  pinMode(ledPin, OUTPUT); // Set LED pin as output\n",
    "  pinMode(buzzerPin, OUTPUT); // Set buzzer pin as output\n",
    "  Serial.begin(9600); // Initialize serial communication for debugging\n",
    "}\n",
    "\n",
    "void loop() {\n",
    "  int pirState = digitalRead(pirPin); // Read PIR sensor state\n",
    "\n",
    "  if (pirState == HIGH) {\n",
    "    digitalWrite(ledPin, HIGH); // Turn on LED\n",
    "    digitalWrite(buzzerPin, HIGH); // Turn on buzzer\n",
    "    Serial.println(\"Motion detected!\"); // Print message to serial monitor\n",
    "  } else {\n",
    "    digitalWrite(ledPin, LOW); // Turn off LED\n",
    "    digitalWrite(buzzerPin, LOW); // Turn off buzzer\n",
    "    Serial.println(\"No motion.\"); // Print message to serial monitor\n",
    "  }\n",
    "\n",
    "  delay(1000); // Wait for a second before checking again\n",
    "}"
   ]
  }
 ],
 "metadata": {
  "kernelspec": {
   "display_name": "Python 3 (ipykernel)",
   "language": "python",
   "name": "python3"
  },
  "language_info": {
   "codemirror_mode": {
    "name": "ipython",
    "version": 3
   },
   "file_extension": ".py",
   "mimetype": "text/x-python",
   "name": "python",
   "nbconvert_exporter": "python",
   "pygments_lexer": "ipython3",
   "version": "3.12.4"
  }
 },
 "nbformat": 4,
 "nbformat_minor": 5
}
